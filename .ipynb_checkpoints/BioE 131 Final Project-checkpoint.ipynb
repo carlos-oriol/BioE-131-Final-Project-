{
 "cells": [
  {
   "cell_type": "markdown",
   "metadata": {},
   "source": [
    "# BioE 131 Final Project: Multiple Sequence Analysis of Various SARS-CoV2 Sequences"
   ]
  },
  {
   "cell_type": "markdown",
   "metadata": {},
   "source": [
    "Before we start we need to install and import all the necessary packages and libraries which we will use to run our analysis. These include Biopython, SeqIO, and MUSCLE. "
   ]
  },
  {
   "cell_type": "code",
   "execution_count": 1,
   "metadata": {},
   "outputs": [
    {
     "name": "stdout",
     "output_type": "stream",
     "text": [
      "Collecting anaconda\n",
      "  Downloading anaconda-0.0.1.1.tar.gz (726 bytes)\n",
      "Building wheels for collected packages: anaconda\n",
      "  Building wheel for anaconda (setup.py) ... \u001b[?25ldone\n",
      "\u001b[?25h  Created wheel for anaconda: filename=anaconda-0.0.1.1-py3-none-any.whl size=1121 sha256=a545e7cc785ca4852ca0c8f9cdd33f80345de64a8fe2c7f96e3d0332fc0ce306\n",
      "  Stored in directory: /Users/carlosoriol/Library/Caches/pip/wheels/70/29/df/a691ce9377d2b9b8ad2659144a1c4c51c216f2d8037b72dbc2\n",
      "Successfully built anaconda\n",
      "Installing collected packages: anaconda\n",
      "Successfully installed anaconda-0.0.1.1\n",
      "\u001b[33mWARNING: You are using pip version 20.2.4; however, version 20.3 is available.\n",
      "You should consider upgrading via the '/Users/carlosoriol/anaconda3/bin/python -m pip install --upgrade pip' command.\u001b[0m\n",
      "Requirement already satisfied: biopython in /Users/carlosoriol/anaconda3/lib/python3.7/site-packages (1.78)\n",
      "Requirement already satisfied: numpy in /Users/carlosoriol/anaconda3/lib/python3.7/site-packages (from biopython) (1.16.4)\n",
      "\u001b[33mWARNING: You are using pip version 20.2.4; however, version 20.3 is available.\n",
      "You should consider upgrading via the '/Users/carlosoriol/anaconda3/bin/python -m pip install --upgrade pip' command.\u001b[0m\n",
      "Collecting muscle\n",
      "  Downloading muscle-0.0.4-py3-none-any.whl (3.8 kB)\n",
      "Installing collected packages: muscle\n",
      "Successfully installed muscle-0.0.4\n",
      "\u001b[33mWARNING: You are using pip version 20.2.4; however, version 20.3 is available.\n",
      "You should consider upgrading via the '/Users/carlosoriol/anaconda3/bin/python -m pip install --upgrade pip' command.\u001b[0m\n"
     ]
    }
   ],
   "source": [
    "! pip install anaconda\n",
    "! pip install biopython\n",
    "! pip install muscle"
   ]
  },
  {
   "cell_type": "code",
   "execution_count": 2,
   "metadata": {},
   "outputs": [],
   "source": [
    "from Bio import SeqIO"
   ]
  },
  {
   "cell_type": "markdown",
   "metadata": {},
   "source": [
    "Once we have installed these different tools, we will use SeqIO to read the fasta files containing the genome sequences which we downloaded from GenBank. Each of these will be named according to the region from which they were extracted."
   ]
  },
  {
   "cell_type": "code",
   "execution_count": 5,
   "metadata": {},
   "outputs": [],
   "source": [
    "with open('China_C1.fna', 'r') as f:\n",
    "    china_c1 = list(SeqIO.parse(f, 'fasta'))\n",
    "    \n",
    "with open('China, C2.fna', 'r') as f:\n",
    "    china_c2 = list(SeqIO.parse(f, 'fasta'))\n",
    "    \n",
    "with open('Australia_Victoria_ A1.fna', 'r') as f:\n",
    "    australia = list(SeqIO.parse(f, 'fasta'))\n",
    "    \n",
    "with open('USA_CA, UC.fna', 'r') as f:\n",
    "    california = list(SeqIO.parse(f, 'fasta'))\n",
    "    \n",
    "with open('USA_WA.fna', 'r') as f:\n",
    "    washington = list(SeqIO.parse(f, 'fasta'))"
   ]
  },
  {
   "cell_type": "markdown",
   "metadata": {},
   "source": [
    "In order to run the MUSCLE software, we will first write a file called aeqs.fa that contains the 5 sequences we created before. This will allows us to run the alignment between them. "
   ]
  },
  {
   "cell_type": "code",
   "execution_count": 7,
   "metadata": {},
   "outputs": [],
   "source": [
    "with open('seqs.fa', 'w') as f:\n",
    "    SeqIO.write(china_c1, f, 'fasta')\n",
    "    SeqIO.write(china_c2, f, 'fasta')\n",
    "    SeqIO.write(australia, f, 'fasta')\n",
    "    SeqIO.write(washington, f, 'fasta')\n",
    "    SeqIO.write(california, f, 'fasta')"
   ]
  },
  {
   "cell_type": "code",
   "execution_count": 8,
   "metadata": {},
   "outputs": [
    {
     "name": "stdout",
     "output_type": "stream",
     "text": [
      "\n",
      "MUSCLE v3.8.1551 by Robert C. Edgar\n",
      "\n",
      "http://www.drive5.com/muscle\n",
      "This software is donated to the public domain.\n",
      "Please cite: Edgar, R.C. Nucleic Acids Res 32(5), 1792-97.\n",
      "\n",
      "seqs 5 seqs, lengths min 29903, max 29903, avg 29903\n",
      "00:00:00      2 MB(0%)  Iter   1  100.00%  K-mer dist pass 1\n",
      "00:00:00      2 MB(0%)  Iter   1  100.00%  K-mer dist pass 2\n",
      "00:01:19  1018 MB(12%)  Iter   1  100.00%  Align node       \n",
      "00:01:19  1019 MB(12%)  Iter   1  100.00%  Root alignment\n",
      "00:01:19  1019 MB(12%)  Iter   2  100.00%  Root alignment\n",
      "00:03:34  1036 MB(12%)  Iter   3  100.00%  Refine biparts\n"
     ]
    }
   ],
   "source": [
    "! muscle -in seqs.fa -out alignments.fa"
   ]
  },
  {
   "cell_type": "code",
   "execution_count": 18,
   "metadata": {},
   "outputs": [
    {
     "data": {
      "text/plain": [
       "True"
      ]
     },
     "execution_count": 18,
     "metadata": {},
     "output_type": "execute_result"
    }
   ],
   "source": [
    "china_c1[0].seq == california[0].seq"
   ]
  },
  {
   "cell_type": "code",
   "execution_count": null,
   "metadata": {},
   "outputs": [],
   "source": []
  }
 ],
 "metadata": {
  "kernelspec": {
   "display_name": "Python 3",
   "language": "python",
   "name": "python3"
  },
  "language_info": {
   "codemirror_mode": {
    "name": "ipython",
    "version": 3
   },
   "file_extension": ".py",
   "mimetype": "text/x-python",
   "name": "python",
   "nbconvert_exporter": "python",
   "pygments_lexer": "ipython3",
   "version": "3.7.3"
  }
 },
 "nbformat": 4,
 "nbformat_minor": 2
}
