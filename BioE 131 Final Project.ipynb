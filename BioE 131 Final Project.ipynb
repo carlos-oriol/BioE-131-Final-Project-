{
 "cells": [
  {
   "cell_type": "markdown",
   "metadata": {},
   "source": [
    "# BioE 131 Final Project: Multiple Sequence Analysis of Various SARS-CoV2 Sequences"
   ]
  },
  {
   "cell_type": "markdown",
   "metadata": {},
   "source": [
    "Before we start we need to install and import all the necessary packages and libraries which we will use to run our analysis. These include Biopython, SeqIO, and MUSCLE. "
   ]
  },
  {
   "cell_type": "code",
   "execution_count": 2,
   "metadata": {},
   "outputs": [
    {
     "name": "stdout",
     "output_type": "stream",
     "text": [
      "Collecting anaconda\n",
      "  Downloading anaconda-0.0.1.1.tar.gz (726 bytes)\n",
      "Building wheels for collected packages: anaconda\n",
      "  Building wheel for anaconda (setup.py) ... \u001b[?25ldone\n",
      "\u001b[?25h  Created wheel for anaconda: filename=anaconda-0.0.1.1-py3-none-any.whl size=1122 sha256=aa924e7ef1f78445c6570895f3ae5c06da86e4748d5e1ee2cf96d679a70fce4a\n",
      "  Stored in directory: /home/jovyan/.cache/pip/wheels/c2/f4/d5/04ee4841afe97419e952e4906651f4c55b39fb1038715b715e\n",
      "Successfully built anaconda\n",
      "Installing collected packages: anaconda\n",
      "Successfully installed anaconda-0.0.1.1\n",
      "Requirement already satisfied: biopython in /opt/conda/lib/python3.8/site-packages (1.78)\n",
      "Requirement already satisfied: numpy in /opt/conda/lib/python3.8/site-packages (from biopython) (1.19.4)\n",
      "Collecting muscle\n",
      "  Downloading muscle-0.0.4-py3-none-any.whl (3.8 kB)\n",
      "Installing collected packages: muscle\n",
      "Successfully installed muscle-0.0.4\n"
     ]
    }
   ],
   "source": [
    "! pip install anaconda\n",
    "! pip install biopython\n",
    "! pip install muscle"
   ]
  },
  {
   "cell_type": "code",
   "execution_count": 2,
   "metadata": {},
   "outputs": [],
   "source": [
    "from Bio import SeqIO"
   ]
  },
  {
   "cell_type": "markdown",
   "metadata": {},
   "source": [
    "Once we have installed these different tools, we will use SeqIO to read the fasta files containing the genome sequences which we downloaded from GenBank. Each of these will be named according to the region from which they were extracted."
   ]
  },
  {
   "cell_type": "code",
   "execution_count": 3,
   "metadata": {},
   "outputs": [],
   "source": [
    "with open('wuhan_cov2', 'r') as f:\n",
    "    china = list(SeqIO.parse(f, 'fasta'))\n",
    "    \n",
    "with open('mexico_cov2.fasta', 'r') as f:\n",
    "    mexico = list(SeqIO.parse(f, 'fasta'))\n",
    "    \n",
    "with open('serbia_cov2.fasta', 'r') as f:\n",
    "    serbia = list(SeqIO.parse(f, 'fasta'))\n",
    "    \n",
    "with open('maryland_cov2.fasta', 'r') as f:\n",
    "    maryland = list(SeqIO.parse(f, 'fasta'))\n",
    "    \n",
    "with open('florida_cov2.fasta', 'r') as f:\n",
    "    florida = list(SeqIO.parse(f, 'fasta'))"
   ]
  },
  {
   "cell_type": "markdown",
   "metadata": {},
   "source": [
    "In order to run the MUSCLE software, we will first write a file called aeqs.fa that contains the 5 sequences we created before. This will allows us to run the alignment between them. "
   ]
  },
  {
   "cell_type": "code",
   "execution_count": 4,
   "metadata": {},
   "outputs": [],
   "source": [
    "with open('seqs.fa', 'w') as f:\n",
    "    SeqIO.write(china, f, 'fasta')\n",
    "    SeqIO.write(mexico, f, 'fasta')\n",
    "    SeqIO.write(serbia, f, 'fasta')\n",
    "    SeqIO.write(florida, f, 'fasta')\n",
    "    SeqIO.write(maryland, f, 'fasta')"
   ]
  },
  {
   "cell_type": "code",
   "execution_count": 6,
   "metadata": {},
   "outputs": [
    {
     "data": {
      "text/plain": [
       "False"
      ]
     },
     "execution_count": 6,
     "metadata": {},
     "output_type": "execute_result"
    }
   ],
   "source": [
    "china[0].seq == mexico[0].seq"
   ]
  },
  {
   "cell_type": "code",
   "execution_count": 7,
   "metadata": {},
   "outputs": [
    {
     "data": {
      "text/plain": [
       "29903"
      ]
     },
     "execution_count": 7,
     "metadata": {},
     "output_type": "execute_result"
    }
   ],
   "source": [
    "len(china[0].seq)"
   ]
  },
  {
   "cell_type": "code",
   "execution_count": 8,
   "metadata": {},
   "outputs": [
    {
     "name": "stdout",
     "output_type": "stream",
     "text": [
      "\n",
      "MUSCLE v3.8.1551 by Robert C. Edgar\n",
      "\n",
      "http://www.drive5.com/muscle\n",
      "This software is donated to the public domain.\n",
      "Please cite: Edgar, R.C. Nucleic Acids Res 32(5), 1792-97.\n",
      "\n",
      "seqs 5 seqs, lengths min 29782, max 29903, avg 29845\n",
      "00:00:00     16 MB(1%)  Iter   1  100.00%  K-mer dist pass 1\n",
      "00:00:00     16 MB(1%)  Iter   1  100.00%  K-mer dist pass 2\n",
      "00:01:17  1051 MB(54%)  Iter   1  100.00%  Align node       \n",
      "00:01:17  1051 MB(54%)  Iter   1  100.00%  Root alignment\n",
      "00:02:14  1051 MB(54%)  Iter   2  100.00%  Refine tree   \n",
      "00:02:14  1051 MB(54%)  Iter   2  100.00%  Root alignment\n",
      "00:02:14  1051 MB(54%)  Iter   2  100.00%  Root alignment\n",
      "00:04:39  1051 MB(54%)  Iter   3  100.00%  Refine biparts\n"
     ]
    }
   ],
   "source": [
    "! muscle -in seqs.fa -out seqs.aligned.fa"
   ]
  },
  {
   "cell_type": "markdown",
   "metadata": {},
   "source": [
    "## Analyzing gaps in the aligned genomes"
   ]
  },
  {
   "cell_type": "code",
   "execution_count": 7,
   "metadata": {},
   "outputs": [
    {
     "name": "stdout",
     "output_type": "stream",
     "text": [
      "MW310413.1\n",
      "[1, 2, 3, 4, 5, 6, 7, 8, 9, 10, 11, 12, 13, 14, 15, 16, 17, 18, 19, 20, 21, 22, 23, 24, 25, 26, 27, 28, 29, 30, 31, 32, 33, 34, 35]\n",
      "\n",
      "MW315981.1\n",
      "[1, 2, 3, 4, 5, 6, 7, 8, 9, 10, 11, 12, 13, 14, 15, 16, 17, 18, 19, 20, 21, 22, 23, 24, 25, 26, 27, 28, 29, 30, 31, 32, 33, 34, 35, 36, 37, 38, 39, 40, 41, 42, 43, 44, 45, 46, 47, 48, 49, 50, 51, 52, 53, 54, 29837, 29838, 29839, 29840, 29841, 29842, 29843, 29844, 29845, 29846, 29847, 29848, 29849, 29850, 29851, 29852, 29853, 29854, 29855, 29856, 29857, 29858, 29859, 29860, 29861, 29862, 29863, 29864, 29865, 29866, 29867, 29868, 29869, 29870, 29871, 29872, 29873, 29874, 29875, 29876, 29877, 29878, 29879, 29880, 29881, 29882, 29883, 29884, 29885, 29886, 29887, 29888, 29889, 29890, 29891, 29892, 29893, 29894, 29895, 29896, 29897, 29898, 29899, 29900, 29901, 29902, 29903]\n",
      "\n",
      "MW309449.1\n",
      "[1, 2, 3, 4, 5, 6, 7, 8, 9, 10, 11, 12, 13, 14, 15, 16, 17, 18, 19, 20, 21, 22, 23, 24, 25, 26, 27, 28, 29, 30, 31, 32, 33, 34, 35, 36, 37, 38, 686, 687, 688, 689, 690, 691, 692, 693, 694, 29854, 29855, 29856, 29857, 29858, 29859, 29860, 29861, 29862, 29863, 29864, 29865, 29866, 29867, 29868, 29869, 29870, 29871, 29872, 29873, 29874, 29875, 29876, 29877, 29878, 29879, 29880, 29881, 29882, 29883, 29884, 29885, 29886, 29887, 29888, 29889, 29890, 29891, 29892, 29893, 29894, 29895, 29896, 29897, 29898, 29899, 29900, 29901, 29902, 29903]\n",
      "\n",
      "NC_045512.2\n",
      "[]\n",
      "\n",
      "MW315213.1\n",
      "[1, 2, 3, 4, 5, 6, 7, 8, 9, 10, 11, 12, 13, 14, 15, 16, 17, 18, 19, 20, 21, 22, 23, 24, 25, 26, 27, 28, 29, 30, 31, 32, 33, 34, 35, 36]\n",
      "\n"
     ]
    }
   ],
   "source": [
    "\"\"\"\n",
    "FUNCTION: seq_to_str\n",
    "PARAMETER: sequence: a seq object from Seq.IO\n",
    "RETURNS: the sequence as a Python string\n",
    "\"\"\"\n",
    "def seq_to_str(sequence):\n",
    "    genome_sequence = []\n",
    "    for base in sequence:\n",
    "        genome_sequence.append(base)\n",
    "    sequence = ''.join([base for base in sequence])\n",
    "    return sequence\n",
    "\n",
    "\"\"\"\n",
    "FUNCTION: gaps\n",
    "RETURNS: a dictionary --> keys: sequence.id; value: dictionary --> keys: nucleotide number, value: 1\n",
    "IMPORTANCE: the dictionary gives an indication of where sequences had gaps (insertions/deletions) \n",
    "            when aligned to the consensus\n",
    "\"\"\"\n",
    "def gaps():\n",
    "    sars_seq = []\n",
    "    names = []\n",
    "    substitutions = {}\n",
    "    for sequence in SeqIO.parse(\"seqs.aligned.fa\", \"fasta\"):\n",
    "        sars_sequence = seq_to_str(sequence.seq)\n",
    "        substitutions[sequence.id] = []\n",
    "        for base in range(0, len(sequence.seq)):\n",
    "            if sars_sequence[base] == '-':\n",
    "                substitutions[sequence.id].append(base+1)\n",
    "    return substitutions\n",
    "\n",
    "\"\"\"\n",
    "FUNCTION: results\n",
    "PARAMATER: a dictionary --> keys: sequence.id; value: dictionary --> keys: nucleotide number, value: 1\n",
    "RETURNS: the keys of the dictionary, which indicate what position of the genome had gaps\n",
    "\"\"\"\n",
    "def results(dictionary):\n",
    "    for key in dictionary:\n",
    "        print(key)\n",
    "        print(dictionary[key])\n",
    "        print()\n",
    "        \n",
    "number_of_substitutions = gaps()\n",
    "results(number_of_substitutions)"
   ]
  },
  {
   "cell_type": "markdown",
   "metadata": {},
   "source": [
    "## Analysing the mutations in the sequences"
   ]
  },
  {
   "cell_type": "code",
   "execution_count": 10,
   "metadata": {},
   "outputs": [],
   "source": [
    "# creating a dictionary of sequence.id --> sequence\n",
    "sequence_dictionary = {}\n",
    "for sequence in SeqIO.parse(\"seqs.aligned.fa\", \"fasta\"):\n",
    "    sars_sequence = seq_to_str(sequence.seq)\n",
    "    sequence_dictionary[sequence.id] = sars_sequence"
   ]
  },
  {
   "cell_type": "code",
   "execution_count": 12,
   "metadata": {},
   "outputs": [
    {
     "data": {
      "text/plain": [
       "{'MW310413.1': {241: 'C-->T',\n",
       "  1578: 'T-->C',\n",
       "  3037: 'C-->T',\n",
       "  4226: 'C-->T',\n",
       "  6618: 'G-->A',\n",
       "  10741: 'C-->T',\n",
       "  14408: 'C-->T',\n",
       "  20268: 'A-->G',\n",
       "  23403: 'A-->G',\n",
       "  23604: 'C-->A',\n",
       "  24076: 'T-->C',\n",
       "  28854: 'C-->T',\n",
       "  29266: 'G-->A',\n",
       "  29710: 'T-->C',\n",
       "  29862: 'G-->A',\n",
       "  29864: 'G-->A',\n",
       "  29868: 'G-->A',\n",
       "  29870: 'C-->A',\n",
       "  29894: 'A-->G'},\n",
       " 'MW315981.1': {203: 'C-->T',\n",
       "  241: 'C-->T',\n",
       "  3037: 'C-->T',\n",
       "  3095: 'T-->C',\n",
       "  10265: 'G-->A',\n",
       "  12880: 'C-->T',\n",
       "  14408: 'C-->T',\n",
       "  15972: 'A-->G',\n",
       "  19718: 'C-->T',\n",
       "  23403: 'A-->G',\n",
       "  28077: 'G-->T',\n",
       "  28759: 'T-->C',\n",
       "  28881: 'G-->A',\n",
       "  28882: 'G-->A',\n",
       "  28883: 'G-->C',\n",
       "  29692: 'G-->T'},\n",
       " 'MW309449.1': {241: 'C-->T',\n",
       "  376: 'G-->A',\n",
       "  2416: 'C-->T',\n",
       "  3037: 'C-->T',\n",
       "  7471: 'C-->T',\n",
       "  14408: 'C-->T',\n",
       "  19862: 'C-->T',\n",
       "  22899: 'G-->A',\n",
       "  23403: 'A-->G',\n",
       "  25563: 'G-->T',\n",
       "  26233: 'G-->T',\n",
       "  27881: 'C-->T',\n",
       "  28250: 'T-->G'},\n",
       " 'NC_045512.2': {},\n",
       " 'MW315213.1': {42: 'T-->A',\n",
       "  241: 'C-->T',\n",
       "  3037: 'C-->T',\n",
       "  3691: 'A-->C',\n",
       "  10156: 'C-->T',\n",
       "  11606: 'C-->T',\n",
       "  14408: 'C-->T',\n",
       "  20268: 'A-->G',\n",
       "  23403: 'A-->G',\n",
       "  24076: 'T-->C',\n",
       "  28854: 'C-->T',\n",
       "  29736: 'G-->T',\n",
       "  29738: 'C-->T'}}"
      ]
     },
     "execution_count": 12,
     "metadata": {},
     "output_type": "execute_result"
    }
   ],
   "source": [
    "# creating a nested dictionary of sequence id --> {genome position --> nucleotide exchange}\n",
    "align_to = sequence_dictionary['NC_045512.2']\n",
    "mutations = {}\n",
    "count = 0\n",
    "for id, sequence in sequence_dictionary.items():\n",
    "    mutations[id] = {}\n",
    "    for base in range(0, len(align_to)):\n",
    "        if sequence[base] != align_to[base] and sequence[base] !='-':\n",
    "            mutations[id][base+1] = align_to[base] + '-->' + sequence[base]\n",
    "            count +=1\n",
    "mutations"
   ]
  },
  {
   "cell_type": "code",
   "execution_count": 79,
   "metadata": {},
   "outputs": [],
   "source": [
    "# creates a dictionary that indicates the frequency of mutations: genome_position --> frequency\n",
    "mutation_frequency = {}\n",
    "for id, seq_mutations in mutations.items():\n",
    "    for base, mutation in seq_mutations.items():\n",
    "        if base in mutation_frequency:\n",
    "            mutation_frequency[base] += 1;\n",
    "        else:\n",
    "            mutation_frequency[base] = 1\n",
    "# mutation_frequency"
   ]
  },
  {
   "cell_type": "code",
   "execution_count": 82,
   "metadata": {},
   "outputs": [
    {
     "data": {
      "text/plain": [
       "[241, 3037, 14408, 20268, 23403, 24076, 28854]"
      ]
     },
     "execution_count": 82,
     "metadata": {},
     "output_type": "execute_result"
    }
   ],
   "source": [
    "# creates a list of the most frequent mutations\n",
    "most_frequent_mutations = []\n",
    "for position, count in mutation_frequency.items():\n",
    "    if count >= 2:\n",
    "        most_frequent_mutations.append(position)\n",
    "most_frequent_mutations"
   ]
  },
  {
   "cell_type": "markdown",
   "metadata": {},
   "source": [
    "### Summary of mutations observed\n",
    "\n",
    "| **reference genome position** \t| **nucleotide exchange** \t| **frequency** \t| **region**    \t|\n",
    "|:-----------------------------:\t|:-----------------------:\t|:-------------:\t|---------------\t|\n",
    "|            **241**            \t|       **C --> T**       \t|    **4/4**    \t|   **5' UTR**  \t|\n",
    "|            **3037**           \t|       **C --> T**       \t|    **4/4**    \t|   **ORF1ab**  \t|\n",
    "|           **14408**           \t|       **C --> T**       \t|    **4/4**    \t|   **ORF1ab**  \t|\n",
    "|           **20268**           \t|       **A --> G**       \t|    **2/4**    \t|   **ORF1ab**  \t|\n",
    "|           **23403**           \t|       **A --> G**       \t|    **4/4**    \t| **S protein** \t|\n",
    "|           **24076**           \t|       **T --> C**       \t|    **2/4**    \t| **S protein** \t|\n",
    "|             25563             \t|         G --> T         \t|      1/4      \t|     ORF3a     \t|\n",
    "|           **28854**           \t|       **C --> T**       \t|    **2/4**    \t| **N protein** \t|\n",
    "|             28881             \t|         G --> A         \t|      1/4      \t|   N protein   \t|\n",
    "|             28882             \t|         G --> A         \t|      1/4      \t|   N protein   \t|\n",
    "|             28883             \t|         G --> C         \t|      1/4      \t|   N protien   \t|"
   ]
  }
 ],
 "metadata": {
  "kernelspec": {
   "display_name": "Python 3",
   "language": "python",
   "name": "python3"
  },
  "language_info": {
   "codemirror_mode": {
    "name": "ipython",
    "version": 3
   },
   "file_extension": ".py",
   "mimetype": "text/x-python",
   "name": "python",
   "nbconvert_exporter": "python",
   "pygments_lexer": "ipython3",
   "version": "3.8.6"
  }
 },
 "nbformat": 4,
 "nbformat_minor": 2
}
