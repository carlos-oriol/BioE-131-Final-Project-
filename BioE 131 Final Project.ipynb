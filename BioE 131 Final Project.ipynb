{
 "cells": [
  {
   "cell_type": "markdown",
   "metadata": {},
   "source": [
    "# BioE 131 Final Project: Multiple Sequence Analysis of Various SARS-CoV2 Sequences"
   ]
  },
  {
   "cell_type": "markdown",
   "metadata": {},
   "source": [
    "Before we start we need to install and import all the necessary packages and libraries which we will use to run our analysis. These include Biopython, SeqIO, and MUSCLE. "
   ]
  },
  {
   "cell_type": "code",
   "execution_count": 1,
   "metadata": {},
   "outputs": [
    {
     "name": "stdout",
     "output_type": "stream",
     "text": [
      "Collecting anaconda\n",
      "  Downloading anaconda-0.0.1.1.tar.gz (726 bytes)\n",
      "Building wheels for collected packages: anaconda\n",
      "  Building wheel for anaconda (setup.py) ... \u001b[?25ldone\n",
      "\u001b[?25h  Created wheel for anaconda: filename=anaconda-0.0.1.1-py3-none-any.whl size=1121 sha256=a545e7cc785ca4852ca0c8f9cdd33f80345de64a8fe2c7f96e3d0332fc0ce306\n",
      "  Stored in directory: /Users/carlosoriol/Library/Caches/pip/wheels/70/29/df/a691ce9377d2b9b8ad2659144a1c4c51c216f2d8037b72dbc2\n",
      "Successfully built anaconda\n",
      "Installing collected packages: anaconda\n",
      "Successfully installed anaconda-0.0.1.1\n",
      "\u001b[33mWARNING: You are using pip version 20.2.4; however, version 20.3 is available.\n",
      "You should consider upgrading via the '/Users/carlosoriol/anaconda3/bin/python -m pip install --upgrade pip' command.\u001b[0m\n",
      "Requirement already satisfied: biopython in /Users/carlosoriol/anaconda3/lib/python3.7/site-packages (1.78)\n",
      "Requirement already satisfied: numpy in /Users/carlosoriol/anaconda3/lib/python3.7/site-packages (from biopython) (1.16.4)\n",
      "\u001b[33mWARNING: You are using pip version 20.2.4; however, version 20.3 is available.\n",
      "You should consider upgrading via the '/Users/carlosoriol/anaconda3/bin/python -m pip install --upgrade pip' command.\u001b[0m\n",
      "Collecting muscle\n",
      "  Downloading muscle-0.0.4-py3-none-any.whl (3.8 kB)\n",
      "Installing collected packages: muscle\n",
      "Successfully installed muscle-0.0.4\n",
      "\u001b[33mWARNING: You are using pip version 20.2.4; however, version 20.3 is available.\n",
      "You should consider upgrading via the '/Users/carlosoriol/anaconda3/bin/python -m pip install --upgrade pip' command.\u001b[0m\n"
     ]
    }
   ],
   "source": [
    "! pip install anaconda\n",
    "! pip install biopython\n",
    "! pip install muscle"
   ]
  },
  {
   "cell_type": "code",
   "execution_count": 2,
   "metadata": {},
   "outputs": [],
   "source": [
    "from Bio import SeqIO"
   ]
  },
  {
   "cell_type": "markdown",
   "metadata": {},
   "source": [
    "Once we have installed these different tools, we will use SeqIO to read the fasta files containing the genome sequences which we downloaded from GenBank. Each of these will be named according to the region from which they were extracted."
   ]
  },
  {
   "cell_type": "code",
   "execution_count": 20,
   "metadata": {},
   "outputs": [],
   "source": [
    "with open('wuhan_cov2', 'r') as f:\n",
    "    china = list(SeqIO.parse(f, 'fasta'))\n",
    "    \n",
    "with open('mexico_cov2.fasta', 'r') as f:\n",
    "    mexico = list(SeqIO.parse(f, 'fasta'))\n",
    "    \n",
    "with open('serbia_cov2.fasta', 'r') as f:\n",
    "    serbia = list(SeqIO.parse(f, 'fasta'))\n",
    "    \n",
    "with open('maryland_cov2.fasta', 'r') as f:\n",
    "    maryland = list(SeqIO.parse(f, 'fasta'))\n",
    "    \n",
    "with open('florida_cov2.fasta', 'r') as f:\n",
    "    florida = list(SeqIO.parse(f, 'fasta'))"
   ]
  },
  {
   "cell_type": "markdown",
   "metadata": {},
   "source": [
    "In order to run the MUSCLE software, we will first write a file called aeqs.fa that contains the 5 sequences we created before. This will allows us to run the alignment between them. "
   ]
  },
  {
   "cell_type": "code",
   "execution_count": 22,
   "metadata": {},
   "outputs": [],
   "source": [
    "with open('seqs.fa', 'w') as f:\n",
    "    SeqIO.write(china, f, 'fasta')\n",
    "    SeqIO.write(mexico, f, 'fasta')\n",
    "    SeqIO.write(serbia, f, 'fasta')\n",
    "    SeqIO.write(florida, f, 'fasta')\n",
    "    SeqIO.write(maryland, f, 'fasta')"
   ]
  },
  {
   "cell_type": "code",
   "execution_count": null,
   "metadata": {},
   "outputs": [],
   "source": []
  }
 ],
 "metadata": {
  "kernelspec": {
   "display_name": "Python 3",
   "language": "python",
   "name": "python3"
  },
  "language_info": {
   "codemirror_mode": {
    "name": "ipython",
    "version": 3
   },
   "file_extension": ".py",
   "mimetype": "text/x-python",
   "name": "python",
   "nbconvert_exporter": "python",
   "pygments_lexer": "ipython3",
   "version": "3.7.3"
  }
 },
 "nbformat": 4,
 "nbformat_minor": 2
}
