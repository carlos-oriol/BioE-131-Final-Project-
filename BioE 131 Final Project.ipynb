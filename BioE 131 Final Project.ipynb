{
 "cells": [
  {
   "cell_type": "markdown",
   "metadata": {},
   "source": [
    "# BioE 131 Final Project: Multiple Sequence Analysis of Various SARS-CoV2 Sequences"
   ]
  },
  {
   "cell_type": "markdown",
   "metadata": {},
   "source": [
    "Before we start we need to install and import all the necessary packages and libraries which we will use to run our analysis. These include Biopython, SeqIO, and MUSCLE. "
   ]
  },
  {
   "cell_type": "code",
   "execution_count": 2,
   "metadata": {},
   "outputs": [
    {
     "name": "stdout",
     "output_type": "stream",
     "text": [
      "Collecting anaconda\n",
      "  Downloading anaconda-0.0.1.1.tar.gz (726 bytes)\n",
      "Building wheels for collected packages: anaconda\n",
      "  Building wheel for anaconda (setup.py) ... \u001b[?25ldone\n",
      "\u001b[?25h  Created wheel for anaconda: filename=anaconda-0.0.1.1-py3-none-any.whl size=1122 sha256=0bfc07eda439719f4946f7c71eebe4641837390cb5f5ce09ccb219474f23e1ef\n",
      "  Stored in directory: /home/jovyan/.cache/pip/wheels/c2/f4/d5/04ee4841afe97419e952e4906651f4c55b39fb1038715b715e\n",
      "Successfully built anaconda\n",
      "Installing collected packages: anaconda\n",
      "Successfully installed anaconda-0.0.1.1\n",
      "Collecting biopython\n",
      "  Using cached biopython-1.78-cp38-cp38-manylinux1_x86_64.whl (2.3 MB)\n",
      "Requirement already satisfied: numpy in /opt/conda/lib/python3.8/site-packages (from biopython) (1.18.5)\n",
      "Installing collected packages: biopython\n",
      "Successfully installed biopython-1.78\n",
      "Collecting muscle\n",
      "  Downloading muscle-0.0.4-py3-none-any.whl (3.8 kB)\n",
      "Installing collected packages: muscle\n",
      "Successfully installed muscle-0.0.4\n"
     ]
    }
   ],
   "source": [
    "! pip install anaconda\n",
    "! pip install biopython\n",
    "! pip install muscle"
   ]
  },
  {
   "cell_type": "code",
   "execution_count": 3,
   "metadata": {},
   "outputs": [],
   "source": [
    "from Bio import SeqIO"
   ]
  },
  {
   "cell_type": "markdown",
   "metadata": {},
   "source": [
    "Once we have installed these different tools, we will use SeqIO to read the fasta files containing the genome sequences which we downloaded from GenBank. Each of these will be named according to the region from which they were extracted."
   ]
  },
  {
   "cell_type": "code",
   "execution_count": 4,
   "metadata": {},
   "outputs": [],
   "source": [
    "with open('wuhan_cov2', 'r') as f:\n",
    "    china = list(SeqIO.parse(f, 'fasta'))\n",
    "    \n",
    "with open('mexico_cov2.fasta', 'r') as f:\n",
    "    mexico = list(SeqIO.parse(f, 'fasta'))\n",
    "    \n",
    "with open('serbia_cov2.fasta', 'r') as f:\n",
    "    serbia = list(SeqIO.parse(f, 'fasta'))\n",
    "    \n",
    "with open('maryland_cov2.fasta', 'r') as f:\n",
    "    maryland = list(SeqIO.parse(f, 'fasta'))\n",
    "    \n",
    "with open('florida_cov2.fasta', 'r') as f:\n",
    "    florida = list(SeqIO.parse(f, 'fasta'))"
   ]
  },
  {
   "cell_type": "markdown",
   "metadata": {},
   "source": [
    "In order to run the MUSCLE software, we will first write a file called aeqs.fa that contains the 5 sequences we created before. This will allows us to run the alignment between them. "
   ]
  },
  {
   "cell_type": "code",
   "execution_count": 5,
   "metadata": {},
   "outputs": [],
   "source": [
    "with open('seqs.fa', 'w') as f:\n",
    "    SeqIO.write(china, f, 'fasta')\n",
    "    SeqIO.write(mexico, f, 'fasta')\n",
    "    SeqIO.write(serbia, f, 'fasta')\n",
    "    SeqIO.write(florida, f, 'fasta')\n",
    "    SeqIO.write(maryland, f, 'fasta')"
   ]
  },
  {
   "cell_type": "code",
   "execution_count": 6,
   "metadata": {},
   "outputs": [
    {
     "data": {
      "text/plain": [
       "False"
      ]
     },
     "execution_count": 6,
     "metadata": {},
     "output_type": "execute_result"
    }
   ],
   "source": [
    "china[0].seq == mexico[0].seq"
   ]
  },
  {
   "cell_type": "code",
   "execution_count": 1,
   "metadata": {},
   "outputs": [
    {
     "name": "stdout",
     "output_type": "stream",
     "text": [
      "\n",
      "MUSCLE v3.8.1551 by Robert C. Edgar\n",
      "\n",
      "http://www.drive5.com/muscle\n",
      "This software is donated to the public domain.\n",
      "Please cite: Edgar, R.C. Nucleic Acids Res 32(5), 1792-97.\n",
      "\n",
      "seqs 5 seqs, lengths min 29782, max 29903, avg 29845\n",
      "00:00:00     16 MB(1%)  Iter   1  100.00%  K-mer dist pass 1\n",
      "00:00:00     16 MB(1%)  Iter   1  100.00%  K-mer dist pass 2\n",
      "00:01:15  1051 MB(54%)  Iter   1  100.00%  Align node       \n",
      "00:01:15  1051 MB(54%)  Iter   1  100.00%  Root alignment\n",
      "00:02:11  1051 MB(54%)  Iter   2  100.00%  Refine tree   \n",
      "00:02:11  1051 MB(54%)  Iter   2  100.00%  Root alignment\n",
      "00:02:11  1051 MB(54%)  Iter   2  100.00%  Root alignment\n",
      "00:04:36  1051 MB(54%)  Iter   3  100.00%  Refine biparts\n"
     ]
    }
   ],
   "source": [
    "! muscle -in seqs.fa -out seqs.aligned.fa"
   ]
  },
  {
   "cell_type": "code",
   "execution_count": null,
   "metadata": {},
   "outputs": [],
   "source": []
  }
 ],
 "metadata": {
  "kernelspec": {
   "display_name": "Python 3",
   "language": "python",
   "name": "python3"
  },
  "language_info": {
   "codemirror_mode": {
    "name": "ipython",
    "version": 3
   },
   "file_extension": ".py",
   "mimetype": "text/x-python",
   "name": "python",
   "nbconvert_exporter": "python",
   "pygments_lexer": "ipython3",
   "version": "3.8.6"
  }
 },
 "nbformat": 4,
 "nbformat_minor": 2
}
